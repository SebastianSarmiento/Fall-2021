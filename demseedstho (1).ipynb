{
  "nbformat": 4,
  "nbformat_minor": 0,
  "metadata": {
    "kernelspec": {
      "name": "python3",
      "display_name": "Python 3",
      "language": "python"
    },
    "language_info": {
      "name": "python",
      "version": "3.7.10",
      "mimetype": "text/x-python",
      "codemirror_mode": {
        "name": "ipython",
        "version": 3
      },
      "pygments_lexer": "ipython3",
      "nbconvert_exporter": "python",
      "file_extension": ".py"
    },
    "colab": {
      "name": "demseedstho.ipynb",
      "provenance": []
    }
  },
  "cells": [
    {
      "cell_type": "code",
      "metadata": {
        "trusted": true,
        "id": "DnQsQjtDG6k7"
      },
      "source": [
        "#pip install pandas"
      ],
      "execution_count": null,
      "outputs": []
    },
    {
      "cell_type": "code",
      "metadata": {
        "trusted": true,
        "id": "HAZmpT8oG6lA"
      },
      "source": [
        "import requests\n",
        "from bs4 import BeautifulSoup\n",
        "import pandas as pd\n",
        "import numpy as np"
      ],
      "execution_count": 37,
      "outputs": []
    },
    {
      "cell_type": "code",
      "metadata": {
        "id": "y6MCcFgUHmB2"
      },
      "source": [
        "page = requests.get('https://www.growerschoiceseeds.com/')\n",
        "soup = BeautifulSoup(page.content, 'html.parser')\n",
        "\n",
        "strain_tag = soup.find_all('li', attrs={'class': 'wcpbc-product'})\n",
        "\n",
        "strains = []\n",
        "for i in range(len(strain_tag)):\n",
        "  strains.append(strain_tag[i].get_text())\n",
        "\n",
        "df = pd.DataFrame({'Strain': strains})\n",
        "\n"
      ],
      "execution_count": 35,
      "outputs": []
    },
    {
      "cell_type": "code",
      "metadata": {
        "id": "IOIe7kqfJOFG"
      },
      "source": [
        "df = pd.DataFrame({'Strain': strains})\n",
        "\n",
        "\n",
        "\n",
        "df['Strain'] = df['Strain'].replace({' ': '-'}, regex=True)\n",
        "\n",
        "df.to_csv('strainsV4.csv', header=False, index=False)\n",
        "\n"
      ],
      "execution_count": 22,
      "outputs": []
    },
    {
      "cell_type": "code",
      "metadata": {
        "trusted": true,
        "id": "h1lvPpvwG6lI"
      },
      "source": [
        "preurl = 'https://www.growerschoiceseeds.com/shop/cannabis-seeds/feminized/'\n",
        "posturl = '-feminized-cannabis-seeds/'\n",
        "\n",
        "strain_df = pd.read_csv('strainsV4.csv', header=None)\n",
        "\n",
        "url_list = []\n",
        "for i in range(len(strain_df)):\n",
        "  url = preurl + strain_df[0][i]\n",
        "  url_list.append(url)\n",
        "\n",
        "for i in range(len(url_list)):\n",
        "  page = requests.get_url(url_list[i])\n",
        "  soup = BeautifulSoup(page.content, 'html.parser')\n",
        "\n",
        "  blend_tag = soup.find_all('td', attrs={'class': 'woodcommerce-product-attributes-item__value'})\n",
        "  flwtime_tag = soup.find_all('td', attrs={'class': 'woodcommerce-product-attributes-item__value'})\n",
        "\n",
        "\n"
      ],
      "execution_count": 53,
      "outputs": []
    },
    {
      "cell_type": "code",
      "metadata": {
        "colab": {
          "base_uri": "https://localhost:8080/"
        },
        "id": "Rei4z1X3PNqY",
        "outputId": "92b279d6-e0f2-4e4e-a7e5-457aab571df1"
      },
      "source": [
        "page = requests.get(url_list[6])\n",
        "soup = BeautifulSoup(page.content, 'html.parser')\n",
        "\n",
        "name_tag = soup.find_all('h1', attrs=({'class': 'entry-title fusion-responsive-typography-calculated'}))\n",
        "\n",
        "metrics_tag = soup.find_all('td', attrs=({'class': 'woocommerce-product-attributes-item__value'}))\n",
        "\n",
        "len(name_tag)\n",
        "\n"
      ],
      "execution_count": 78,
      "outputs": [
        {
          "output_type": "execute_result",
          "data": {
            "text/plain": [
              "0"
            ]
          },
          "metadata": {},
          "execution_count": 78
        }
      ]
    },
    {
      "cell_type": "code",
      "metadata": {
        "colab": {
          "base_uri": "https://localhost:8080/",
          "height": 197
        },
        "id": "YIXhLwGhS9Z-",
        "outputId": "f7b97acf-3258-4318-8964-0a454d2468bf"
      },
      "source": [
        "names_list = []\n",
        "metrics_list = []\n",
        "for i in range(len(metrics_tag)):\n",
        "  #names_list.append(name_tag[i].get_text())\n",
        "  metrics_list.append(metrics_tag[i].get_text())\n",
        "\n",
        "names_list\n",
        "len(name_tag)\n"
      ],
      "execution_count": 77,
      "outputs": [
        {
          "output_type": "error",
          "ename": "TypeError",
          "evalue": "ignored",
          "traceback": [
            "\u001b[0;31m---------------------------------------------------------------------------\u001b[0m",
            "\u001b[0;31mTypeError\u001b[0m                                 Traceback (most recent call last)",
            "\u001b[0;32m<ipython-input-77-3181c881a11d>\u001b[0m in \u001b[0;36m<module>\u001b[0;34m()\u001b[0m\n\u001b[1;32m      6\u001b[0m \u001b[0;34m\u001b[0m\u001b[0m\n\u001b[1;32m      7\u001b[0m \u001b[0mnames_list\u001b[0m\u001b[0;34m\u001b[0m\u001b[0;34m\u001b[0m\u001b[0m\n\u001b[0;32m----> 8\u001b[0;31m \u001b[0mlen\u001b[0m\u001b[0;34m(\u001b[0m\u001b[0mname_tag\u001b[0m\u001b[0;34m)\u001b[0m\u001b[0;34m\u001b[0m\u001b[0;34m\u001b[0m\u001b[0m\n\u001b[0m",
            "\u001b[0;31mTypeError\u001b[0m: object of type 'NoneType' has no len()"
          ]
        }
      ]
    }
  ]
}