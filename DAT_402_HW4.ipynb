{
  "nbformat": 4,
  "nbformat_minor": 0,
  "metadata": {
    "colab": {
      "name": "DAT 402 - HW4.ipynb",
      "provenance": []
    },
    "kernelspec": {
      "display_name": "Python 3",
      "name": "python3"
    },
    "language_info": {
      "name": "python"
    }
  },
  "cells": [
    {
      "cell_type": "code",
      "metadata": {
        "id": "N-1M4PNUyMBG",
        "colab": {
          "base_uri": "https://localhost:8080/"
        },
        "outputId": "7c58b138-c5bb-4abd-f92e-1e68b1ee499e"
      },
      "source": [
        "from keras import models\n",
        "from keras import layers\n",
        "from keras.datasets import reuters\n",
        "import numpy as np\n",
        "import matplotlib.pyplot as plt\n",
        "\n",
        "\n",
        "(train_data, train_labels), (test_data, test_labels) = reuters.load_data(num_words=10000)\n",
        "\n"
      ],
      "execution_count": 1,
      "outputs": [
        {
          "output_type": "stream",
          "name": "stdout",
          "text": [
            "Downloading data from https://storage.googleapis.com/tensorflow/tf-keras-datasets/reuters.npz\n",
            "2113536/2110848 [==============================] - 0s 0us/step\n",
            "2121728/2110848 [==============================] - 0s 0us/step\n"
          ]
        }
      ]
    },
    {
      "cell_type": "code",
      "metadata": {
        "colab": {
          "base_uri": "https://localhost:8080/",
          "height": 177
        },
        "id": "U3h8YMR70QZy",
        "outputId": "98e85b3b-d91b-4f32-e925-1849a50da30f"
      },
      "source": [
        "\n",
        "word_index = reuters.get_word_index()\n",
        "\n",
        "reversed_word_index = dict([(value, key) for (key,value) in word_index.items()])\n",
        "\n",
        "decode = ' '.join([reversed_word_index.get(i - 3, '&*&') for i in train_data[3]])\n",
        "\n",
        "decode\n"
      ],
      "execution_count": 2,
      "outputs": [
        {
          "output_type": "stream",
          "name": "stdout",
          "text": [
            "Downloading data from https://storage.googleapis.com/tensorflow/tf-keras-datasets/reuters_word_index.json\n",
            "557056/550378 [==============================] - 0s 0us/step\n",
            "565248/550378 [==============================] - 0s 0us/step\n"
          ]
        },
        {
          "output_type": "execute_result",
          "data": {
            "application/vnd.google.colaboratory.intrinsic+json": {
              "type": "string"
            },
            "text/plain": [
              "\"&*& the farmers home administration the u s agriculture department's farm lending arm could lose about seven billion dlrs in outstanding principal on its severely &*& borrowers or about one fourth of its farm loan portfolio the general accounting office gao said in remarks prepared for delivery to the senate agriculture committee brian crowley senior associate director of gao also said that a preliminary analysis of proposed changes in &*& financial eligibility standards indicated as many as one half of &*& borrowers who received new loans from the agency in 1986 would be &*& under the proposed system the agency has proposed evaluating &*& credit using a variety of financial ratios instead of relying solely on &*& ability senate agriculture committee chairman patrick leahy d vt &*& the proposed eligibility changes telling &*& administrator &*& clark at a hearing that they would mark a dramatic shift in the agency's purpose away from being farmers' lender of last resort toward becoming a big city bank but clark defended the new regulations saying the agency had a responsibility to &*& its 70 billion dlr loan portfolio in a &*& yet &*& manner crowley of gao &*& &*& arm said the proposed credit &*& system attempted to ensure that &*& would make loans only to borrowers who had a reasonable change of repaying their debt reuter 3\""
            ]
          },
          "metadata": {},
          "execution_count": 2
        }
      ]
    },
    {
      "cell_type": "code",
      "metadata": {
        "id": "nVViWWTL2gQm"
      },
      "source": [
        "def vectorize_sequences(sequences, dimension=10000):\n",
        "  result = np.zeros((len(sequences), dimension))\n",
        "  for i, sequence in enumerate(sequences):\n",
        "    result[i, sequence] = 1.\n",
        "  return result\n",
        "\n",
        "x_train = vectorize_sequences(train_data)\n",
        "x_test = vectorize_sequences(test_data)"
      ],
      "execution_count": 3,
      "outputs": []
    },
    {
      "cell_type": "code",
      "metadata": {
        "colab": {
          "base_uri": "https://localhost:8080/"
        },
        "id": "eWxUtQRcMFEW",
        "outputId": "b5ff5be4-5f2f-45a9-fe88-24835050e5c0"
      },
      "source": [
        "x_train.shape\n",
        "x_test.shape"
      ],
      "execution_count": 4,
      "outputs": [
        {
          "output_type": "execute_result",
          "data": {
            "text/plain": [
              "(2246, 10000)"
            ]
          },
          "metadata": {},
          "execution_count": 4
        }
      ]
    },
    {
      "cell_type": "code",
      "metadata": {
        "id": "_8tBCIL0NIKZ"
      },
      "source": [
        "# for i, j in enumerate(train_data):\n",
        "#   print((i,j))"
      ],
      "execution_count": 5,
      "outputs": []
    },
    {
      "cell_type": "code",
      "metadata": {
        "id": "gtTbF8VDSA6F"
      },
      "source": [
        "# x_train[2:12,]\n",
        "\n",
        "def to_one_hot(labels, dimension=46):\n",
        "  result = np.zeros((len(labels), dimension))\n",
        "  for i, label in enumerate(labels):\n",
        "    result[i, label] = 1.\n",
        "  return result\n",
        "\n",
        "y_train = to_one_hot(train_labels)\n",
        "y_test = to_one_hot(test_labels)"
      ],
      "execution_count": 6,
      "outputs": []
    },
    {
      "cell_type": "code",
      "metadata": {
        "colab": {
          "base_uri": "https://localhost:8080/"
        },
        "id": "5uzzPnPkUgt7",
        "outputId": "5c89217f-c177-40ad-ed84-7a02d3853292"
      },
      "source": [
        "x_test[564][:20]\n",
        "# test_labels[1]"
      ],
      "execution_count": 7,
      "outputs": [
        {
          "output_type": "execute_result",
          "data": {
            "text/plain": [
              "array([0., 1., 1., 0., 1., 1., 1., 1., 1., 1., 1., 1., 1., 1., 0., 1., 1.,\n",
              "       1., 0., 1.])"
            ]
          },
          "metadata": {},
          "execution_count": 7
        }
      ]
    },
    {
      "cell_type": "code",
      "metadata": {
        "id": "aLSE871vVgCI"
      },
      "source": [
        "mod = models.Sequential()\n",
        "mod.add(layers.Dense(64, activation='relu', input_shape=(10000,)))\n",
        "mod.add(layers.Dense(64, activation='relu'))\n",
        "mod.add(layers.Dense(46, activation='softmax'))\n",
        "\n"
      ],
      "execution_count": 8,
      "outputs": []
    },
    {
      "cell_type": "code",
      "metadata": {
        "id": "nIVc0xDhXcgk"
      },
      "source": [
        "mod.compile(optimizer='rmsprop',\n",
        "            loss='categorical_crossentropy',\n",
        "            metrics=['accuracy'])"
      ],
      "execution_count": 9,
      "outputs": []
    },
    {
      "cell_type": "code",
      "metadata": {
        "id": "3T58DCNuX-LG"
      },
      "source": [
        "x_val = x_train[:1000]\n",
        "reduced_x_train = x_train[1000:]\n",
        "\n",
        "y_val = y_train[:1000]\n",
        "reduced_y_train = y_train[1000:]"
      ],
      "execution_count": 10,
      "outputs": []
    },
    {
      "cell_type": "code",
      "metadata": {
        "colab": {
          "base_uri": "https://localhost:8080/"
        },
        "id": "hkazOu5WbAEb",
        "outputId": "613db92c-012c-4e70-dfa1-c86009f0e593"
      },
      "source": [
        "neu = mod.fit(reduced_x_train,\n",
        "              reduced_y_train,\n",
        "              epochs=20,\n",
        "              batch_size=512,\n",
        "              validation_data=(x_val, y_val))"
      ],
      "execution_count": 11,
      "outputs": [
        {
          "output_type": "stream",
          "name": "stdout",
          "text": [
            "Epoch 1/20\n",
            "16/16 [==============================] - 2s 64ms/step - loss: 2.5606 - accuracy: 0.4877 - val_loss: 1.6820 - val_accuracy: 0.6440\n",
            "Epoch 2/20\n",
            "16/16 [==============================] - 1s 47ms/step - loss: 1.4035 - accuracy: 0.7055 - val_loss: 1.2900 - val_accuracy: 0.7180\n",
            "Epoch 3/20\n",
            "16/16 [==============================] - 1s 46ms/step - loss: 1.0613 - accuracy: 0.7720 - val_loss: 1.1201 - val_accuracy: 0.7570\n",
            "Epoch 4/20\n",
            "16/16 [==============================] - 1s 46ms/step - loss: 0.8419 - accuracy: 0.8202 - val_loss: 1.0210 - val_accuracy: 0.7760\n",
            "Epoch 5/20\n",
            "16/16 [==============================] - 1s 48ms/step - loss: 0.6744 - accuracy: 0.8593 - val_loss: 0.9549 - val_accuracy: 0.8040\n",
            "Epoch 6/20\n",
            "16/16 [==============================] - 1s 46ms/step - loss: 0.5426 - accuracy: 0.8857 - val_loss: 0.9099 - val_accuracy: 0.8030\n",
            "Epoch 7/20\n",
            "16/16 [==============================] - 1s 45ms/step - loss: 0.4388 - accuracy: 0.9097 - val_loss: 0.8892 - val_accuracy: 0.8190\n",
            "Epoch 8/20\n",
            "16/16 [==============================] - 1s 45ms/step - loss: 0.3577 - accuracy: 0.9241 - val_loss: 0.8656 - val_accuracy: 0.8190\n",
            "Epoch 9/20\n",
            "16/16 [==============================] - 1s 48ms/step - loss: 0.2944 - accuracy: 0.9341 - val_loss: 0.9208 - val_accuracy: 0.8020\n",
            "Epoch 10/20\n",
            "16/16 [==============================] - 1s 46ms/step - loss: 0.2520 - accuracy: 0.9405 - val_loss: 0.8762 - val_accuracy: 0.8240\n",
            "Epoch 11/20\n",
            "16/16 [==============================] - 1s 47ms/step - loss: 0.2129 - accuracy: 0.9470 - val_loss: 0.8981 - val_accuracy: 0.8140\n",
            "Epoch 12/20\n",
            "16/16 [==============================] - 1s 44ms/step - loss: 0.1892 - accuracy: 0.9498 - val_loss: 0.9037 - val_accuracy: 0.8220\n",
            "Epoch 13/20\n",
            "16/16 [==============================] - 1s 46ms/step - loss: 0.1672 - accuracy: 0.9544 - val_loss: 0.9830 - val_accuracy: 0.8050\n",
            "Epoch 14/20\n",
            "16/16 [==============================] - 1s 48ms/step - loss: 0.1543 - accuracy: 0.9555 - val_loss: 0.9284 - val_accuracy: 0.8130\n",
            "Epoch 15/20\n",
            "16/16 [==============================] - 1s 46ms/step - loss: 0.1420 - accuracy: 0.9554 - val_loss: 0.9596 - val_accuracy: 0.8160\n",
            "Epoch 16/20\n",
            "16/16 [==============================] - 1s 47ms/step - loss: 0.1346 - accuracy: 0.9568 - val_loss: 1.0510 - val_accuracy: 0.8030\n",
            "Epoch 17/20\n",
            "16/16 [==============================] - 1s 45ms/step - loss: 0.1250 - accuracy: 0.9560 - val_loss: 0.9715 - val_accuracy: 0.8210\n",
            "Epoch 18/20\n",
            "16/16 [==============================] - 1s 45ms/step - loss: 0.1221 - accuracy: 0.9574 - val_loss: 1.0512 - val_accuracy: 0.8040\n",
            "Epoch 19/20\n",
            "16/16 [==============================] - 1s 46ms/step - loss: 0.1142 - accuracy: 0.9592 - val_loss: 1.0349 - val_accuracy: 0.8070\n",
            "Epoch 20/20\n",
            "16/16 [==============================] - 1s 45ms/step - loss: 0.1146 - accuracy: 0.9580 - val_loss: 1.0618 - val_accuracy: 0.8080\n"
          ]
        }
      ]
    },
    {
      "cell_type": "code",
      "metadata": {
        "colab": {
          "base_uri": "https://localhost:8080/",
          "height": 313
        },
        "id": "90URtItNc3Ib",
        "outputId": "384f0406-cba3-4b1a-c0c4-11cfcfba089b"
      },
      "source": [
        "loss = neu.history['loss']\n",
        "val_loss = neu.history['val_loss']\n",
        "\n",
        "epochs = range(1, len(loss) + 1)\n",
        "\n",
        "plt.plot(epochs, loss, 'bo', label='Training Loss')\n",
        "plt.plot(epochs, val_loss, 'ro', label='Validation Loss')\n",
        "plt.title('Model Loss')\n",
        "plt.xlabel('Epochs')\n",
        "plt.ylabel('Loss')\n",
        "plt.legend()\n",
        "\n"
      ],
      "execution_count": 12,
      "outputs": [
        {
          "output_type": "execute_result",
          "data": {
            "text/plain": [
              "<matplotlib.legend.Legend at 0x7f73a7ecfcd0>"
            ]
          },
          "metadata": {},
          "execution_count": 12
        },
        {
          "output_type": "display_data",
          "data": {
            "image/png": "[encoded data removed]",
            "text/plain": [
              "<Figure size 432x288 with 1 Axes>"
            ]
          },
          "metadata": {
            "needs_background": "light"
          }
        }
      ]
    },
    {
      "cell_type": "code",
      "metadata": {
        "colab": {
          "base_uri": "https://localhost:8080/",
          "height": 313
        },
        "id": "AuhIZcVbegut",
        "outputId": "c5817501-8220-4bc3-e237-104d81f1c3d5"
      },
      "source": [
        "accu = neu.history['accuracy']\n",
        "val_accu = neu.history['val_accuracy']\n",
        "\n",
        "plt.plot(epochs, accu, 'bo', label='Training Accuracy')\n",
        "plt.plot(epochs, val_accu, 'ro', label='Validation Accuracy')\n",
        "plt.title('Model Accuracy')\n",
        "plt.xlabel('Epochs')\n",
        "plt.ylabel('Accuracy')\n",
        "plt.legend()"
      ],
      "execution_count": 13,
      "outputs": [
        {
          "output_type": "execute_result",
          "data": {
            "text/plain": [
              "<matplotlib.legend.Legend at 0x7f73a785d910>"
            ]
          },
          "metadata": {},
          "execution_count": 13
        },
        {
          "output_type": "display_data",
          "data": {
            "image/png": "[encoded data removed]",
            "text/plain": [
              "<Figure size 432x288 with 1 Axes>"
            ]
          },
          "metadata": {
            "needs_background": "light"
          }
        }
      ]
    },
    {
      "cell_type": "code",
      "metadata": {
        "colab": {
          "base_uri": "https://localhost:8080/"
        },
        "id": "GhF-6ZUQhcmQ",
        "outputId": "af62fd2c-dab6-4fdc-c418-6647b21054be"
      },
      "source": [
        "np.min(val_loss)\n",
        "np.argmin(val_loss)\n",
        "val_loss[8]\n",
        "\n",
        "np.max(val_accu)\n",
        "np.argmax(val_accu)\n",
        "val_accu[8]\n"
      ],
      "execution_count": 14,
      "outputs": [
        {
          "output_type": "execute_result",
          "data": {
            "text/plain": [
              "0.8019999861717224"
            ]
          },
          "metadata": {},
          "execution_count": 14
        }
      ]
    },
    {
      "cell_type": "code",
      "metadata": {
        "colab": {
          "base_uri": "https://localhost:8080/"
        },
        "id": "oEIxhwjdjEsR",
        "outputId": "3da666ac-e519-43c1-ee80-9f94523d74d6"
      },
      "source": [
        "new_mod = models.Sequential()\n",
        "new_mod.add(layers.Dense(64, activation='relu', input_shape=(10000,)))\n",
        "new_mod.add(layers.Dense(64, activation='relu'))\n",
        "new_mod.add(layers.Dense(46, activation='softmax'))\n",
        "\n",
        "new_mod.compile(optimizer='rmsprop',\n",
        "                loss='categorical_crossentropy',\n",
        "                metrics=['accuracy'])\n",
        "\n",
        "new_mod.fit(reduced_x_train,\n",
        "            reduced_y_train,\n",
        "            epochs=9,\n",
        "            batch_size=512,\n",
        "            validation_data=(x_val, y_val))\n",
        "\n",
        "results = new_mod.evaluate(x_test, y_test)\n",
        "results"
      ],
      "execution_count": 15,
      "outputs": [
        {
          "output_type": "stream",
          "name": "stdout",
          "text": [
            "Epoch 1/9\n",
            "16/16 [==============================] - 1s 57ms/step - loss: 2.6125 - accuracy: 0.5018 - val_loss: 1.7030 - val_accuracy: 0.6440\n",
            "Epoch 2/9\n",
            "16/16 [==============================] - 1s 47ms/step - loss: 1.3909 - accuracy: 0.7121 - val_loss: 1.2776 - val_accuracy: 0.7200\n",
            "Epoch 3/9\n",
            "16/16 [==============================] - 1s 46ms/step - loss: 1.0252 - accuracy: 0.7783 - val_loss: 1.1142 - val_accuracy: 0.7520\n",
            "Epoch 4/9\n",
            "16/16 [==============================] - 1s 45ms/step - loss: 0.8110 - accuracy: 0.8290 - val_loss: 1.0310 - val_accuracy: 0.7630\n",
            "Epoch 5/9\n",
            "16/16 [==============================] - 1s 47ms/step - loss: 0.6493 - accuracy: 0.8666 - val_loss: 0.9686 - val_accuracy: 0.7880\n",
            "Epoch 6/9\n",
            "16/16 [==============================] - 1s 46ms/step - loss: 0.5179 - accuracy: 0.8924 - val_loss: 0.9025 - val_accuracy: 0.8040\n",
            "Epoch 7/9\n",
            "16/16 [==============================] - 1s 46ms/step - loss: 0.4167 - accuracy: 0.9108 - val_loss: 0.8764 - val_accuracy: 0.8260\n",
            "Epoch 8/9\n",
            "16/16 [==============================] - 1s 46ms/step - loss: 0.3383 - accuracy: 0.9282 - val_loss: 0.8707 - val_accuracy: 0.8160\n",
            "Epoch 9/9\n",
            "16/16 [==============================] - 1s 46ms/step - loss: 0.2848 - accuracy: 0.9390 - val_loss: 0.8672 - val_accuracy: 0.8220\n",
            "71/71 [==============================] - 0s 3ms/step - loss: 0.9700 - accuracy: 0.7925\n"
          ]
        },
        {
          "output_type": "execute_result",
          "data": {
            "text/plain": [
              "[0.9700323343276978, 0.7925200462341309]"
            ]
          },
          "metadata": {},
          "execution_count": 15
        }
      ]
    },
    {
      "cell_type": "code",
      "metadata": {
        "colab": {
          "base_uri": "https://localhost:8080/"
        },
        "id": "XYufeiKUqKUB",
        "outputId": "dfb65fdc-2522-4ba6-df87-7d24fa32b665"
      },
      "source": [
        "new_mod = models.Sequential()\n",
        "new_mod.add(layers.Dense(82, activation='relu', input_shape=(10000,)))\n",
        "new_mod.add(layers.Dense(82, activation='relu'))\n",
        "new_mod.add(layers.Dense(46, activation='softmax'))\n",
        "\n",
        "new_mod.compile(optimizer='rmsprop',\n",
        "                loss='categorical_crossentropy',\n",
        "                metrics=['accuracy'])\n",
        "\n",
        "neural = new_mod.fit(reduced_x_train,\n",
        "            reduced_y_train,\n",
        "            epochs=20,\n",
        "            batch_size=512,\n",
        "            validation_data=(x_val, y_val))\n",
        "\n",
        "results = new_mod.evaluate(x_test, y_test)\n"
      ],
      "execution_count": 16,
      "outputs": [
        {
          "output_type": "stream",
          "name": "stdout",
          "text": [
            "Epoch 1/20\n",
            "16/16 [==============================] - 2s 70ms/step - loss: 2.3924 - accuracy: 0.5426 - val_loss: 1.5424 - val_accuracy: 0.6650\n",
            "Epoch 2/20\n",
            "16/16 [==============================] - 1s 60ms/step - loss: 1.2740 - accuracy: 0.7261 - val_loss: 1.2156 - val_accuracy: 0.7390\n",
            "Epoch 3/20\n",
            "16/16 [==============================] - 1s 59ms/step - loss: 0.9456 - accuracy: 0.8016 - val_loss: 1.0756 - val_accuracy: 0.7750\n",
            "Epoch 4/20\n",
            "16/16 [==============================] - 1s 59ms/step - loss: 0.7317 - accuracy: 0.8454 - val_loss: 1.0131 - val_accuracy: 0.7820\n",
            "Epoch 5/20\n",
            "16/16 [==============================] - 1s 58ms/step - loss: 0.5703 - accuracy: 0.8826 - val_loss: 0.9465 - val_accuracy: 0.8100\n",
            "Epoch 6/20\n",
            "16/16 [==============================] - 1s 58ms/step - loss: 0.4467 - accuracy: 0.9082 - val_loss: 0.9310 - val_accuracy: 0.8140\n",
            "Epoch 7/20\n",
            "16/16 [==============================] - 1s 59ms/step - loss: 0.3485 - accuracy: 0.9272 - val_loss: 0.9103 - val_accuracy: 0.8180\n",
            "Epoch 8/20\n",
            "16/16 [==============================] - 1s 60ms/step - loss: 0.2841 - accuracy: 0.9382 - val_loss: 0.9250 - val_accuracy: 0.8130\n",
            "Epoch 9/20\n",
            "16/16 [==============================] - 1s 59ms/step - loss: 0.2354 - accuracy: 0.9449 - val_loss: 0.9482 - val_accuracy: 0.8080\n",
            "Epoch 10/20\n",
            "16/16 [==============================] - 1s 58ms/step - loss: 0.1996 - accuracy: 0.9508 - val_loss: 1.0156 - val_accuracy: 0.8020\n",
            "Epoch 11/20\n",
            "16/16 [==============================] - 1s 58ms/step - loss: 0.1801 - accuracy: 0.9531 - val_loss: 0.9847 - val_accuracy: 0.8110\n",
            "Epoch 12/20\n",
            "16/16 [==============================] - 1s 58ms/step - loss: 0.1595 - accuracy: 0.9535 - val_loss: 0.9860 - val_accuracy: 0.8100\n",
            "Epoch 13/20\n",
            "16/16 [==============================] - 1s 61ms/step - loss: 0.1495 - accuracy: 0.9554 - val_loss: 0.9843 - val_accuracy: 0.8100\n",
            "Epoch 14/20\n",
            "16/16 [==============================] - 1s 59ms/step - loss: 0.1355 - accuracy: 0.9554 - val_loss: 1.0213 - val_accuracy: 0.8060\n",
            "Epoch 15/20\n",
            "16/16 [==============================] - 1s 58ms/step - loss: 0.1301 - accuracy: 0.9574 - val_loss: 1.0494 - val_accuracy: 0.8090\n",
            "Epoch 16/20\n",
            "16/16 [==============================] - 1s 58ms/step - loss: 0.1267 - accuracy: 0.9555 - val_loss: 1.0568 - val_accuracy: 0.8220\n",
            "Epoch 17/20\n",
            "16/16 [==============================] - 1s 58ms/step - loss: 0.1151 - accuracy: 0.9580 - val_loss: 1.1017 - val_accuracy: 0.7970\n",
            "Epoch 18/20\n",
            "16/16 [==============================] - 1s 58ms/step - loss: 0.1193 - accuracy: 0.9579 - val_loss: 1.0570 - val_accuracy: 0.8060\n",
            "Epoch 19/20\n",
            "16/16 [==============================] - 1s 58ms/step - loss: 0.1103 - accuracy: 0.9569 - val_loss: 1.1549 - val_accuracy: 0.7990\n",
            "Epoch 20/20\n",
            "16/16 [==============================] - 1s 58ms/step - loss: 0.1113 - accuracy: 0.9583 - val_loss: 1.1020 - val_accuracy: 0.8040\n",
            "71/71 [==============================] - 0s 4ms/step - loss: 1.2007 - accuracy: 0.7907\n"
          ]
        }
      ]
    },
    {
      "cell_type": "code",
      "metadata": {
        "colab": {
          "base_uri": "https://localhost:8080/",
          "height": 315
        },
        "id": "JwrKhzHqwj-H",
        "outputId": "506db447-7621-4d58-df5e-12150b93a329"
      },
      "source": [
        "print(results)\n",
        "\n",
        "loss = neural.history['loss']\n",
        "val_loss = neural.history['val_loss']\n",
        "\n",
        "accu = neural.history['accuracy']\n",
        "val_accu = neural.history['val_accuracy']\n",
        "\n",
        "epochs = range(1, len(loss) + 1)\n",
        "\n",
        "fig, axes = plt.subplots(nrows=1, ncols=2, figsize=(10,4))\n",
        "axes[0].plot(epochs, loss, 'bo', label='Training Loss')\n",
        "axes[0].plot(epochs, val_loss, 'ro', label='Validation Loss')\n",
        "axes[0].axvline(x=np.argmin(val_loss)+1)\n",
        "axes[0].set_title('Model Loss')\n",
        "axes[0].set_xlabel('Epochs')\n",
        "axes[0].set_ylabel('Loss')\n",
        "axes[0].legend()\n",
        "\n",
        "axes[1].plot(epochs, accu, 'bo', label='Training Accuracy')\n",
        "axes[1].plot(epochs, val_accu, 'ro', label='Validation Accuracy')\n",
        "axes[1].axvline(x=np.argmax(val_accu)+1)\n",
        "axes[1].set_title('Model Accuracy')\n",
        "axes[1].set_xlabel('Epochs')\n",
        "axes[1].set_ylabel('Accuracy')\n",
        "axes[1].legend()\n",
        "\n",
        "fig.tight_layout()"
      ],
      "execution_count": 17,
      "outputs": [
        {
          "output_type": "stream",
          "name": "stdout",
          "text": [
            "[1.2007488012313843, 0.790739119052887]\n"
          ]
        },
        {
          "output_type": "display_data",
          "data": {
            "image/png": "[encoded data removed]",
            "text/plain": [
              "<Figure size 720x288 with 2 Axes>"
            ]
          },
          "metadata": {
            "needs_background": "light"
          }
        }
      ]
    },
    {
      "cell_type": "code",
      "metadata": {
        "colab": {
          "base_uri": "https://localhost:8080/"
        },
        "id": "0_k_29sHzxFe",
        "outputId": "904d7e2c-bd7e-4617-a3f6-7399d74e7b2c"
      },
      "source": [
        "new_mod = models.Sequential()\n",
        "new_mod.add(layers.Dense(82, activation='relu', input_shape=(10000,)))\n",
        "new_mod.add(layers.Dense(82, activation='relu'))\n",
        "new_mod.add(layers.Dense(46, activation='softmax'))\n",
        "\n",
        "new_mod.compile(optimizer='rmsprop',\n",
        "                loss='categorical_crossentropy',\n",
        "                metrics=['accuracy'])\n",
        "\n",
        "neural = new_mod.fit(reduced_x_train,\n",
        "            reduced_y_train,\n",
        "            epochs=7,\n",
        "            batch_size=512,\n",
        "            validation_data=(x_val, y_val))\n",
        "\n",
        "results = new_mod.evaluate(x_test, y_test)\n",
        "results"
      ],
      "execution_count": 18,
      "outputs": [
        {
          "output_type": "stream",
          "name": "stdout",
          "text": [
            "Epoch 1/7\n",
            "16/16 [==============================] - 2s 72ms/step - loss: 2.4645 - accuracy: 0.5392 - val_loss: 1.5746 - val_accuracy: 0.6630\n",
            "Epoch 2/7\n",
            "16/16 [==============================] - 1s 59ms/step - loss: 1.2848 - accuracy: 0.7283 - val_loss: 1.2059 - val_accuracy: 0.7190\n",
            "Epoch 3/7\n",
            "16/16 [==============================] - 1s 59ms/step - loss: 0.9314 - accuracy: 0.8017 - val_loss: 1.0479 - val_accuracy: 0.7700\n",
            "Epoch 4/7\n",
            "16/16 [==============================] - 1s 58ms/step - loss: 0.7094 - accuracy: 0.8533 - val_loss: 0.9418 - val_accuracy: 0.8010\n",
            "Epoch 5/7\n",
            "16/16 [==============================] - 1s 58ms/step - loss: 0.5502 - accuracy: 0.8886 - val_loss: 0.9164 - val_accuracy: 0.7990\n",
            "Epoch 6/7\n",
            "16/16 [==============================] - 1s 57ms/step - loss: 0.4279 - accuracy: 0.9104 - val_loss: 0.8514 - val_accuracy: 0.8270\n",
            "Epoch 7/7\n",
            "16/16 [==============================] - 1s 57ms/step - loss: 0.3368 - accuracy: 0.9282 - val_loss: 0.9090 - val_accuracy: 0.8140\n",
            "71/71 [==============================] - 0s 4ms/step - loss: 0.9959 - accuracy: 0.7867\n"
          ]
        },
        {
          "output_type": "execute_result",
          "data": {
            "text/plain": [
              "[0.9959058165550232, 0.7867319583892822]"
            ]
          },
          "metadata": {},
          "execution_count": 18
        }
      ]
    }
  ]
}